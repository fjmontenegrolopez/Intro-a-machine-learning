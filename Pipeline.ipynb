{
 "cells": [
  {
   "cell_type": "markdown",
   "id": "earlier-advisory",
   "metadata": {},
   "source": [
    "# Pipeline"
   ]
  },
  {
   "cell_type": "markdown",
   "id": "perfect-semiconductor",
   "metadata": {},
   "source": [
    "La clase Pipeline proporcionada por sklearn, sirve para aplicar varios algoritmo (preprocesamiento, modelos de aprendisaje diferentes, busqueda de hiperparametros, validacion cruzada, etc.) de una forma simplificada. Esta clase posee metodos de entrenamiento, predicción y puntuación. "
   ]
  },
  {
   "cell_type": "code",
   "execution_count": 4,
   "id": "rubber-relay",
   "metadata": {},
   "outputs": [
    {
     "name": "stdout",
     "output_type": "stream",
     "text": [
      "mejores parametros:\n",
      "{'clasificador': SVC(C=10, gamma=0.01), 'clasificador__C': 10, 'clasificador__gamma': 0.01, 'preprocesado': StandardScaler()}\n",
      "mejor puntaje de validacion cruzada:\n",
      "0.9858823529411765\n",
      "puntaje del conjunto de prueba:\n",
      "0.9790209790209791\n"
     ]
    }
   ],
   "source": [
    "from sklearn.datasets import load_breast_cancer\n",
    "from sklearn.preprocessing import StandardScaler\n",
    "from sklearn.model_selection import train_test_split,GridSearchCV\n",
    "from sklearn.svm import SVC\n",
    "from sklearn.ensemble import RandomForestClassifier\n",
    "from sklearn.pipeline import Pipeline\n",
    "\n",
    "# Cargamos los datos.\n",
    "cancer = load_breast_cancer()\n",
    "\n",
    "# Separamos los datos para entrenamiento y evaluacion.\n",
    "X_train,X_test,y_train,y_test = train_test_split(cancer.data,cancer.target,random_state=0)\n",
    "\n",
    "# Canalizamos SVC() que necesita un escalodo previo en los datos para andar mejor.\n",
    "pipe = Pipeline([('preprocesado',StandardScaler()),('clasificador',SVC())])\n",
    "\n",
    "# Queremos buscar un clasificador entre RandomForestClassifier y SVC que de el mejor resultado en este conjunto de datos. \n",
    "# Combinando GridSearchCV y Pipeline\n",
    "# Para asignar un estimador a un paso, usamos el nombre del paso despues del nombre del parametro.\n",
    "# Cuando queremos omitir un paso en el Pipeline, establecemos ese paso con None.\n",
    "param_grid = [{'clasificador':[SVC()],'preprocesado':[StandardScaler()],\n",
    "               'clasificador__gamma':[0.001,0.01,0.1,1,10,100],\n",
    "               'clasificador__C':[0.001,0.01,0.1,1,10,100]},\n",
    "              {'clasificador':[RandomForestClassifier(n_estimators=100)],\n",
    "               'preprocesado':[None],\n",
    "               'clasificador__max_features':[1,2,3]}]\n",
    "\n",
    "# Busqueda en cuadricula con validacion cruzada para ajustar parametros.\n",
    "grid = GridSearchCV(pipe, param_grid,cv=5)\n",
    "\n",
    "# Usamos el motodo fit.\n",
    "grid.fit(X_train,y_train)\n",
    "\n",
    "# Presentacion de resultados.\n",
    "print(f'mejores parametros:\\n{grid.best_params_}')\n",
    "print(f'mejor puntaje de validacion cruzada:\\n{grid.best_score_}')\n",
    "print(f'puntaje del conjunto de prueba:\\n{grid.score(X_test,y_test)}')"
   ]
  },
  {
   "cell_type": "markdown",
   "id": "fantastic-pacific",
   "metadata": {},
   "source": [
    "El resultado de la búsqueda en cuadrícula es que SVC con preprocesamiento StandardScaler, \n",
    "C=10 y gamma=0,01 dio el mejor resultado."
   ]
  }
 ],
 "metadata": {
  "kernelspec": {
   "display_name": "Python 3",
   "language": "python",
   "name": "python3"
  },
  "language_info": {
   "codemirror_mode": {
    "name": "ipython",
    "version": 3
   },
   "file_extension": ".py",
   "mimetype": "text/x-python",
   "name": "python",
   "nbconvert_exporter": "python",
   "pygments_lexer": "ipython3",
   "version": "3.7.3"
  }
 },
 "nbformat": 4,
 "nbformat_minor": 5
}
